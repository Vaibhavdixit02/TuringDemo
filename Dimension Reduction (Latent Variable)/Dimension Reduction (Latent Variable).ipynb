{
 "cells": [
  {
   "cell_type": "code",
   "execution_count": 1,
   "metadata": {
    "collapsed": false
   },
   "outputs": [
    {
     "name": "stderr",
     "output_type": "stream",
     "text": [
      "WARNING: using Distributions.sampler in module Turing conflicts with an existing identifier.\n"
     ]
    }
   ],
   "source": [
    "using Turing\n",
    "using Distributions"
   ]
  },
  {
   "cell_type": "code",
   "execution_count": 2,
   "metadata": {
    "collapsed": false
   },
   "outputs": [
    {
     "data": {
      "text/plain": [
       "sig (generic function with 1 method)"
      ]
     },
     "execution_count": 2,
     "metadata": {},
     "output_type": "execute_result"
    }
   ],
   "source": [
    "sig(x) = 1 / (1 + exp(-x))"
   ]
  },
  {
   "cell_type": "code",
   "execution_count": 3,
   "metadata": {
    "collapsed": false
   },
   "outputs": [
    {
     "data": {
      "text/plain": [
       "AE (generic function with 1 method)"
      ]
     },
     "execution_count": 3,
     "metadata": {},
     "output_type": "execute_result"
    }
   ],
   "source": [
    "Nz = 8                # dimension of embedded layer\n",
    "Nx = 64               # dimension of observation\n",
    "alpha = 0.16           # regularizatin term\n",
    "σ² = sqrt(1.0 / alpha) # variance of the Gaussian prior\n",
    "\n",
    "@model AE begin\n",
    "    @assume z ~ MvNormal(zeros(Nz), diagm(ones(Nz), 0))\n",
    "    w = tzeros(Nz * Nx) # TODO: change it to TArray()\n",
    "    for i in 1:length(w)\n",
    "        @assume w[i] ~ Normal(0, σ²)\n",
    "    end\n",
    "    for i in 1:length(x)\n",
    "        y = w[(1 + (i - 1) * Nz):(i * Nz)]' * z[i]\n",
    "        print(sig(y[1]))\n",
    "        @observe x[i] ~ Bernoulli(sig(y[1]))\n",
    "        print(3)\n",
    "    end\n",
    "    @predict z\n",
    "end"
   ]
  },
  {
   "cell_type": "code",
   "execution_count": null,
   "metadata": {
    "collapsed": false
   },
   "outputs": [],
   "source": [
    "x = diagm(ones(Int(sqrt(Nx))), 0)[:]\n",
    "sample(AE, HMC(100, 0.1, 3))"
   ]
  },
  {
   "cell_type": "code",
   "execution_count": null,
   "metadata": {
    "collapsed": true
   },
   "outputs": [],
   "source": []
  }
 ],
 "metadata": {
  "kernelspec": {
   "display_name": "Julia 0.5.0",
   "language": "julia",
   "name": "julia-0.5"
  },
  "language_info": {
   "file_extension": ".jl",
   "mimetype": "application/julia",
   "name": "julia",
   "version": "0.5.0"
  }
 },
 "nbformat": 4,
 "nbformat_minor": 2
}
