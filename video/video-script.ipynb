{
 "cells": [
  {
   "cell_type": "raw",
   "metadata": {},
   "source": [
    "############################################################\n",
    "############################################################\n",
    "##                                        |  _            ##\n",
    "##  -+-      _  .  _   _     . |        __| |_| |\\/| /--\\ ##\n",
    "##   |  |_| |   | | | |_| *  | |_   -- \\__| |_, |  | \\__/ ##\n",
    "##                     _|   _|                            ##\n",
    "##                                                        ##\n",
    "################## Last update : Fri 21 Jul ################\n",
    "                ##          By : Kai Xu     ##\n",
    "                ##   Turing.jl : 0.3.0      ##\n",
    "                ##       Julia : 0.5.2      ##\n",
    "                ##############################\n",
    "                ##############################"
   ]
  },
  {
   "cell_type": "code",
   "execution_count": 1,
   "metadata": {},
   "outputs": [
    {
     "name": "stdout",
     "output_type": "stream",
     "text": [
      "[Turing]: AD chunk size is set as 60\n"
     ]
    },
    {
     "name": "stderr",
     "output_type": "stream",
     "text": [
      "WARNING: Method definition describe(AbstractArray) in module StatsBase at /Users/kai/.julia/v0.5/StatsBase/src/scalarstats.jl:560 overwritten in module DataFrames at /Users/kai/.julia/v0.5/DataFrames/src/abstractdataframe/abstractdataframe.jl:407.\n"
     ]
    }
   ],
   "source": [
    "using HDF5, JLD      # for loading training data\n",
    "using Plots          # for visualization\n",
    "using Distributions  # for using all kinds of distributions\n",
    "using Turing         # yeah - it's Turing.jl"
   ]
  },
  {
   "cell_type": "raw",
   "metadata": {},
   "source": [
    "################################\n",
    "# 1. Hidden Markov Model (HMM) #\n",
    "################################"
   ]
  },
  {
   "cell_type": "code",
   "execution_count": 2,
   "metadata": {},
   "outputs": [
    {
     "data": {
      "text/html": [
       "<?xml version=\"1.0\" encoding=\"utf-8\"?>\n",
       "<svg xmlns=\"http://www.w3.org/2000/svg\" xmlns:xlink=\"http://www.w3.org/1999/xlink\" width=\"600\" height=\"400\" viewBox=\"0 0 600 400\">\n",
       "<defs>\n",
       "  <clipPath id=\"clip00\">\n",
       "    <rect x=\"0\" y=\"0\" width=\"600\" height=\"400\"/>\n",
       "  </clipPath>\n",
       "</defs>\n",
       "<polygon clip-path=\"url(#clip00)\" points=\"\n",
       "0,400 600,400 600,0 0,0 \n",
       "  \" fill=\"#ffffff\" fill-opacity=\"1\"/>\n",
       "<defs>\n",
       "  <clipPath id=\"clip01\">\n",
       "    <rect x=\"120\" y=\"0\" width=\"421\" height=\"400\"/>\n",
       "  </clipPath>\n",
       "</defs>\n",
       "<polygon clip-path=\"url(#clip00)\" points=\"\n",
       "39.3701,368.504 592.126,368.504 592.126,7.87402 39.3701,7.87402 \n",
       "  \" fill=\"#ffffff\" fill-opacity=\"1\"/>\n",
       "<defs>\n",
       "  <clipPath id=\"clip02\">\n",
       "    <rect x=\"39\" y=\"7\" width=\"554\" height=\"362\"/>\n",
       "  </clipPath>\n",
       "</defs>\n",
       "<polyline clip-path=\"url(#clip02)\" style=\"stroke:#000000; stroke-width:1; stroke-opacity:0.5; fill:none\" stroke-dasharray=\"1, 2\" points=\"\n",
       "  164.797,363.094 164.797,13.2835 \n",
       "  \"/>\n",
       "<polyline clip-path=\"url(#clip02)\" style=\"stroke:#000000; stroke-width:1; stroke-opacity:0.5; fill:none\" stroke-dasharray=\"1, 2\" points=\"\n",
       "  302.025,363.094 302.025,13.2835 \n",
       "  \"/>\n",
       "<polyline clip-path=\"url(#clip02)\" style=\"stroke:#000000; stroke-width:1; stroke-opacity:0.5; fill:none\" stroke-dasharray=\"1, 2\" points=\"\n",
       "  439.254,363.094 439.254,13.2835 \n",
       "  \"/>\n",
       "<polyline clip-path=\"url(#clip02)\" style=\"stroke:#000000; stroke-width:1; stroke-opacity:0.5; fill:none\" stroke-dasharray=\"1, 2\" points=\"\n",
       "  576.482,363.094 576.482,13.2835 \n",
       "  \"/>\n",
       "<polyline clip-path=\"url(#clip02)\" style=\"stroke:#000000; stroke-width:1; stroke-opacity:0.5; fill:none\" stroke-dasharray=\"1, 2\" points=\"\n",
       "  47.6614,296.494 583.835,296.494 \n",
       "  \"/>\n",
       "<polyline clip-path=\"url(#clip02)\" style=\"stroke:#000000; stroke-width:1; stroke-opacity:0.5; fill:none\" stroke-dasharray=\"1, 2\" points=\"\n",
       "  47.6614,179.5 583.835,179.5 \n",
       "  \"/>\n",
       "<polyline clip-path=\"url(#clip02)\" style=\"stroke:#000000; stroke-width:1; stroke-opacity:0.5; fill:none\" stroke-dasharray=\"1, 2\" points=\"\n",
       "  47.6614,62.5054 583.835,62.5054 \n",
       "  \"/>\n",
       "<polyline clip-path=\"url(#clip00)\" style=\"stroke:#000000; stroke-width:1; stroke-opacity:1; fill:none\" points=\"\n",
       "  39.3701,368.504 592.126,368.504 \n",
       "  \"/>\n",
       "<polyline clip-path=\"url(#clip00)\" style=\"stroke:#000000; stroke-width:1; stroke-opacity:1; fill:none\" points=\"\n",
       "  164.797,368.504 164.797,363.094 \n",
       "  \"/>\n",
       "<polyline clip-path=\"url(#clip00)\" style=\"stroke:#000000; stroke-width:1; stroke-opacity:1; fill:none\" points=\"\n",
       "  302.025,368.504 302.025,363.094 \n",
       "  \"/>\n",
       "<polyline clip-path=\"url(#clip00)\" style=\"stroke:#000000; stroke-width:1; stroke-opacity:1; fill:none\" points=\"\n",
       "  439.254,368.504 439.254,363.094 \n",
       "  \"/>\n",
       "<polyline clip-path=\"url(#clip00)\" style=\"stroke:#000000; stroke-width:1; stroke-opacity:1; fill:none\" points=\"\n",
       "  576.482,368.504 576.482,363.094 \n",
       "  \"/>\n",
       "<polyline clip-path=\"url(#clip00)\" style=\"stroke:#000000; stroke-width:1; stroke-opacity:1; fill:none\" points=\"\n",
       "  39.3701,368.504 39.3701,7.87402 \n",
       "  \"/>\n",
       "<polyline clip-path=\"url(#clip00)\" style=\"stroke:#000000; stroke-width:1; stroke-opacity:1; fill:none\" points=\"\n",
       "  39.3701,296.494 47.6614,296.494 \n",
       "  \"/>\n",
       "<polyline clip-path=\"url(#clip00)\" style=\"stroke:#000000; stroke-width:1; stroke-opacity:1; fill:none\" points=\"\n",
       "  39.3701,179.5 47.6614,179.5 \n",
       "  \"/>\n",
       "<polyline clip-path=\"url(#clip00)\" style=\"stroke:#000000; stroke-width:1; stroke-opacity:1; fill:none\" points=\"\n",
       "  39.3701,62.5054 47.6614,62.5054 \n",
       "  \"/>\n",
       "<g clip-path=\"url(#clip00)\">\n",
       "<text style=\"fill:#000000; fill-opacity:1; font-family:Arial,Helvetica Neue,Helvetica,sans-serif; font-size:12; text-anchor:middle;\" transform=\"rotate(0, 164.797, 382.304)\" x=\"164.797\" y=\"382.304\">5</text>\n",
       "</g>\n",
       "<g clip-path=\"url(#clip00)\">\n",
       "<text style=\"fill:#000000; fill-opacity:1; font-family:Arial,Helvetica Neue,Helvetica,sans-serif; font-size:12; text-anchor:middle;\" transform=\"rotate(0, 302.025, 382.304)\" x=\"302.025\" y=\"382.304\">10</text>\n",
       "</g>\n",
       "<g clip-path=\"url(#clip00)\">\n",
       "<text style=\"fill:#000000; fill-opacity:1; font-family:Arial,Helvetica Neue,Helvetica,sans-serif; font-size:12; text-anchor:middle;\" transform=\"rotate(0, 439.254, 382.304)\" x=\"439.254\" y=\"382.304\">15</text>\n",
       "</g>\n",
       "<g clip-path=\"url(#clip00)\">\n",
       "<text style=\"fill:#000000; fill-opacity:1; font-family:Arial,Helvetica Neue,Helvetica,sans-serif; font-size:12; text-anchor:middle;\" transform=\"rotate(0, 576.482, 382.304)\" x=\"576.482\" y=\"382.304\">20</text>\n",
       "</g>\n",
       "<g clip-path=\"url(#clip00)\">\n",
       "<text style=\"fill:#000000; fill-opacity:1; font-family:Arial,Helvetica Neue,Helvetica,sans-serif; font-size:12; text-anchor:end;\" transform=\"rotate(0, 33.3701, 300.994)\" x=\"33.3701\" y=\"300.994\">1</text>\n",
       "</g>\n",
       "<g clip-path=\"url(#clip00)\">\n",
       "<text style=\"fill:#000000; fill-opacity:1; font-family:Arial,Helvetica Neue,Helvetica,sans-serif; font-size:12; text-anchor:end;\" transform=\"rotate(0, 33.3701, 184)\" x=\"33.3701\" y=\"184\">2</text>\n",
       "</g>\n",
       "<g clip-path=\"url(#clip00)\">\n",
       "<text style=\"fill:#000000; fill-opacity:1; font-family:Arial,Helvetica Neue,Helvetica,sans-serif; font-size:12; text-anchor:end;\" transform=\"rotate(0, 33.3701, 67.0054)\" x=\"33.3701\" y=\"67.0054\">3</text>\n",
       "</g>\n",
       "<circle clip-path=\"url(#clip02)\" style=\"fill:#000000; stroke:none; fill-opacity:1\" cx=\"55.0141\" cy=\"335.314\" r=\"4\"/>\n",
       "<circle clip-path=\"url(#clip02)\" style=\"fill:#009af9; stroke:none; fill-opacity:1\" cx=\"55.0141\" cy=\"335.314\" r=\"3\"/>\n",
       "<circle clip-path=\"url(#clip02)\" style=\"fill:#000000; stroke:none; fill-opacity:1\" cx=\"82.4598\" cy=\"136.12\" r=\"4\"/>\n",
       "<circle clip-path=\"url(#clip02)\" style=\"fill:#009af9; stroke:none; fill-opacity:1\" cx=\"82.4598\" cy=\"136.12\" r=\"3\"/>\n",
       "<circle clip-path=\"url(#clip02)\" style=\"fill:#000000; stroke:none; fill-opacity:1\" cx=\"109.905\" cy=\"287.262\" r=\"4\"/>\n",
       "<circle clip-path=\"url(#clip02)\" style=\"fill:#009af9; stroke:none; fill-opacity:1\" cx=\"109.905\" cy=\"287.262\" r=\"3\"/>\n",
       "<circle clip-path=\"url(#clip02)\" style=\"fill:#000000; stroke:none; fill-opacity:1\" cx=\"137.351\" cy=\"18.0805\" r=\"4\"/>\n",
       "<circle clip-path=\"url(#clip02)\" style=\"fill:#009af9; stroke:none; fill-opacity:1\" cx=\"137.351\" cy=\"18.0805\" r=\"3\"/>\n",
       "<circle clip-path=\"url(#clip02)\" style=\"fill:#000000; stroke:none; fill-opacity:1\" cx=\"164.797\" cy=\"159.368\" r=\"4\"/>\n",
       "<circle clip-path=\"url(#clip02)\" style=\"fill:#009af9; stroke:none; fill-opacity:1\" cx=\"164.797\" cy=\"159.368\" r=\"3\"/>\n",
       "<circle clip-path=\"url(#clip02)\" style=\"fill:#000000; stroke:none; fill-opacity:1\" cx=\"192.242\" cy=\"242.297\" r=\"4\"/>\n",
       "<circle clip-path=\"url(#clip02)\" style=\"fill:#009af9; stroke:none; fill-opacity:1\" cx=\"192.242\" cy=\"242.297\" r=\"3\"/>\n",
       "<circle clip-path=\"url(#clip02)\" style=\"fill:#000000; stroke:none; fill-opacity:1\" cx=\"219.688\" cy=\"89.7658\" r=\"4\"/>\n",
       "<circle clip-path=\"url(#clip02)\" style=\"fill:#009af9; stroke:none; fill-opacity:1\" cx=\"219.688\" cy=\"89.7658\" r=\"3\"/>\n",
       "<circle clip-path=\"url(#clip02)\" style=\"fill:#000000; stroke:none; fill-opacity:1\" cx=\"247.134\" cy=\"181.277\" r=\"4\"/>\n",
       "<circle clip-path=\"url(#clip02)\" style=\"fill:#009af9; stroke:none; fill-opacity:1\" cx=\"247.134\" cy=\"181.277\" r=\"3\"/>\n",
       "<circle clip-path=\"url(#clip02)\" style=\"fill:#000000; stroke:none; fill-opacity:1\" cx=\"274.58\" cy=\"48.5518\" r=\"4\"/>\n",
       "<circle clip-path=\"url(#clip02)\" style=\"fill:#009af9; stroke:none; fill-opacity:1\" cx=\"274.58\" cy=\"48.5518\" r=\"3\"/>\n",
       "<circle clip-path=\"url(#clip02)\" style=\"fill:#000000; stroke:none; fill-opacity:1\" cx=\"302.025\" cy=\"290.739\" r=\"4\"/>\n",
       "<circle clip-path=\"url(#clip02)\" style=\"fill:#009af9; stroke:none; fill-opacity:1\" cx=\"302.025\" cy=\"290.739\" r=\"3\"/>\n",
       "<circle clip-path=\"url(#clip02)\" style=\"fill:#000000; stroke:none; fill-opacity:1\" cx=\"329.471\" cy=\"358.297\" r=\"4\"/>\n",
       "<circle clip-path=\"url(#clip02)\" style=\"fill:#009af9; stroke:none; fill-opacity:1\" cx=\"329.471\" cy=\"358.297\" r=\"3\"/>\n",
       "<circle clip-path=\"url(#clip02)\" style=\"fill:#000000; stroke:none; fill-opacity:1\" cx=\"356.917\" cy=\"142.295\" r=\"4\"/>\n",
       "<circle clip-path=\"url(#clip02)\" style=\"fill:#009af9; stroke:none; fill-opacity:1\" cx=\"356.917\" cy=\"142.295\" r=\"3\"/>\n",
       "<circle clip-path=\"url(#clip02)\" style=\"fill:#000000; stroke:none; fill-opacity:1\" cx=\"384.362\" cy=\"182.374\" r=\"4\"/>\n",
       "<circle clip-path=\"url(#clip02)\" style=\"fill:#009af9; stroke:none; fill-opacity:1\" cx=\"384.362\" cy=\"182.374\" r=\"3\"/>\n",
       "<circle clip-path=\"url(#clip02)\" style=\"fill:#000000; stroke:none; fill-opacity:1\" cx=\"411.808\" cy=\"138.558\" r=\"4\"/>\n",
       "<circle clip-path=\"url(#clip02)\" style=\"fill:#009af9; stroke:none; fill-opacity:1\" cx=\"411.808\" cy=\"138.558\" r=\"3\"/>\n",
       "<circle clip-path=\"url(#clip02)\" style=\"fill:#000000; stroke:none; fill-opacity:1\" cx=\"439.254\" cy=\"256.619\" r=\"4\"/>\n",
       "<circle clip-path=\"url(#clip02)\" style=\"fill:#009af9; stroke:none; fill-opacity:1\" cx=\"439.254\" cy=\"256.619\" r=\"3\"/>\n",
       "<circle clip-path=\"url(#clip02)\" style=\"fill:#000000; stroke:none; fill-opacity:1\" cx=\"466.699\" cy=\"86.6011\" r=\"4\"/>\n",
       "<circle clip-path=\"url(#clip02)\" style=\"fill:#009af9; stroke:none; fill-opacity:1\" cx=\"466.699\" cy=\"86.6011\" r=\"3\"/>\n",
       "<circle clip-path=\"url(#clip02)\" style=\"fill:#000000; stroke:none; fill-opacity:1\" cx=\"494.145\" cy=\"144.407\" r=\"4\"/>\n",
       "<circle clip-path=\"url(#clip02)\" style=\"fill:#009af9; stroke:none; fill-opacity:1\" cx=\"494.145\" cy=\"144.407\" r=\"3\"/>\n",
       "<circle clip-path=\"url(#clip02)\" style=\"fill:#000000; stroke:none; fill-opacity:1\" cx=\"521.591\" cy=\"193.151\" r=\"4\"/>\n",
       "<circle clip-path=\"url(#clip02)\" style=\"fill:#009af9; stroke:none; fill-opacity:1\" cx=\"521.591\" cy=\"193.151\" r=\"3\"/>\n",
       "<circle clip-path=\"url(#clip02)\" style=\"fill:#000000; stroke:none; fill-opacity:1\" cx=\"549.036\" cy=\"159.556\" r=\"4\"/>\n",
       "<circle clip-path=\"url(#clip02)\" style=\"fill:#009af9; stroke:none; fill-opacity:1\" cx=\"549.036\" cy=\"159.556\" r=\"3\"/>\n",
       "<circle clip-path=\"url(#clip02)\" style=\"fill:#000000; stroke:none; fill-opacity:1\" cx=\"576.482\" cy=\"210.268\" r=\"4\"/>\n",
       "<circle clip-path=\"url(#clip02)\" style=\"fill:#009af9; stroke:none; fill-opacity:1\" cx=\"576.482\" cy=\"210.268\" r=\"3\"/>\n",
       "<polygon clip-path=\"url(#clip02)\" style=\"fill:#000000; fill-opacity:1\" points=\"\n",
       "  55.0141,291.494 50.0141,296.494 55.0141,301.494 60.0141,296.494 55.0141,291.494 \n",
       "  \"/>\n",
       "<polygon clip-path=\"url(#clip02)\" style=\"fill:#e26f46; fill-opacity:1\" points=\"\n",
       "  55.0141,292.494 51.0141,296.494 55.0141,300.494 59.0141,296.494 55.0141,292.494 \n",
       "  \"/>\n",
       "<polygon clip-path=\"url(#clip02)\" style=\"fill:#000000; fill-opacity:1\" points=\"\n",
       "  82.4598,57.5054 77.4598,62.5054 82.4598,67.5054 87.4598,62.5054 82.4598,57.5054 \n",
       "  \"/>\n",
       "<polygon clip-path=\"url(#clip02)\" style=\"fill:#e26f46; fill-opacity:1\" points=\"\n",
       "  82.4598,58.5054 78.4598,62.5054 82.4598,66.5054 86.4598,62.5054 82.4598,58.5054 \n",
       "  \"/>\n",
       "<polygon clip-path=\"url(#clip02)\" style=\"fill:#000000; fill-opacity:1\" points=\"\n",
       "  109.905,291.494 104.905,296.494 109.905,301.494 114.905,296.494 109.905,291.494 \n",
       "  \"/>\n",
       "<polygon clip-path=\"url(#clip02)\" style=\"fill:#e26f46; fill-opacity:1\" points=\"\n",
       "  109.905,292.494 105.905,296.494 109.905,300.494 113.905,296.494 109.905,292.494 \n",
       "  \"/>\n",
       "<polygon clip-path=\"url(#clip02)\" style=\"fill:#000000; fill-opacity:1\" points=\"\n",
       "  137.351,57.5054 132.351,62.5054 137.351,67.5054 142.351,62.5054 137.351,57.5054 \n",
       "  \"/>\n",
       "<polygon clip-path=\"url(#clip02)\" style=\"fill:#e26f46; fill-opacity:1\" points=\"\n",
       "  137.351,58.5054 133.351,62.5054 137.351,66.5054 141.351,62.5054 137.351,58.5054 \n",
       "  \"/>\n",
       "<polygon clip-path=\"url(#clip02)\" style=\"fill:#000000; fill-opacity:1\" points=\"\n",
       "  164.797,174.5 159.797,179.5 164.797,184.5 169.797,179.5 164.797,174.5 \n",
       "  \"/>\n",
       "<polygon clip-path=\"url(#clip02)\" style=\"fill:#e26f46; fill-opacity:1\" points=\"\n",
       "  164.797,175.5 160.797,179.5 164.797,183.5 168.797,179.5 164.797,175.5 \n",
       "  \"/>\n",
       "<polygon clip-path=\"url(#clip02)\" style=\"fill:#000000; fill-opacity:1\" points=\"\n",
       "  192.242,174.5 187.242,179.5 192.242,184.5 197.242,179.5 192.242,174.5 \n",
       "  \"/>\n",
       "<polygon clip-path=\"url(#clip02)\" style=\"fill:#e26f46; fill-opacity:1\" points=\"\n",
       "  192.242,175.5 188.242,179.5 192.242,183.5 196.242,179.5 192.242,175.5 \n",
       "  \"/>\n",
       "<polygon clip-path=\"url(#clip02)\" style=\"fill:#000000; fill-opacity:1\" points=\"\n",
       "  219.688,57.5054 214.688,62.5054 219.688,67.5054 224.688,62.5054 219.688,57.5054 \n",
       "  \"/>\n",
       "<polygon clip-path=\"url(#clip02)\" style=\"fill:#e26f46; fill-opacity:1\" points=\"\n",
       "  219.688,58.5054 215.688,62.5054 219.688,66.5054 223.688,62.5054 219.688,58.5054 \n",
       "  \"/>\n",
       "<polygon clip-path=\"url(#clip02)\" style=\"fill:#000000; fill-opacity:1\" points=\"\n",
       "  247.134,174.5 242.134,179.5 247.134,184.5 252.134,179.5 247.134,174.5 \n",
       "  \"/>\n",
       "<polygon clip-path=\"url(#clip02)\" style=\"fill:#e26f46; fill-opacity:1\" points=\"\n",
       "  247.134,175.5 243.134,179.5 247.134,183.5 251.134,179.5 247.134,175.5 \n",
       "  \"/>\n",
       "<polygon clip-path=\"url(#clip02)\" style=\"fill:#000000; fill-opacity:1\" points=\"\n",
       "  274.58,57.5054 269.58,62.5054 274.58,67.5054 279.58,62.5054 274.58,57.5054 \n",
       "  \"/>\n",
       "<polygon clip-path=\"url(#clip02)\" style=\"fill:#e26f46; fill-opacity:1\" points=\"\n",
       "  274.58,58.5054 270.58,62.5054 274.58,66.5054 278.58,62.5054 274.58,58.5054 \n",
       "  \"/>\n",
       "<polygon clip-path=\"url(#clip02)\" style=\"fill:#000000; fill-opacity:1\" points=\"\n",
       "  302.025,291.494 297.025,296.494 302.025,301.494 307.025,296.494 302.025,291.494 \n",
       "  \"/>\n",
       "<polygon clip-path=\"url(#clip02)\" style=\"fill:#e26f46; fill-opacity:1\" points=\"\n",
       "  302.025,292.494 298.025,296.494 302.025,300.494 306.025,296.494 302.025,292.494 \n",
       "  \"/>\n",
       "<polygon clip-path=\"url(#clip02)\" style=\"fill:#000000; fill-opacity:1\" points=\"\n",
       "  329.471,291.494 324.471,296.494 329.471,301.494 334.471,296.494 329.471,291.494 \n",
       "  \"/>\n",
       "<polygon clip-path=\"url(#clip02)\" style=\"fill:#e26f46; fill-opacity:1\" points=\"\n",
       "  329.471,292.494 325.471,296.494 329.471,300.494 333.471,296.494 329.471,292.494 \n",
       "  \"/>\n",
       "<polygon clip-path=\"url(#clip02)\" style=\"fill:#000000; fill-opacity:1\" points=\"\n",
       "  356.917,174.5 351.917,179.5 356.917,184.5 361.917,179.5 356.917,174.5 \n",
       "  \"/>\n",
       "<polygon clip-path=\"url(#clip02)\" style=\"fill:#e26f46; fill-opacity:1\" points=\"\n",
       "  356.917,175.5 352.917,179.5 356.917,183.5 360.917,179.5 356.917,175.5 \n",
       "  \"/>\n",
       "<polygon clip-path=\"url(#clip02)\" style=\"fill:#000000; fill-opacity:1\" points=\"\n",
       "  384.362,174.5 379.362,179.5 384.362,184.5 389.362,179.5 384.362,174.5 \n",
       "  \"/>\n",
       "<polygon clip-path=\"url(#clip02)\" style=\"fill:#e26f46; fill-opacity:1\" points=\"\n",
       "  384.362,175.5 380.362,179.5 384.362,183.5 388.362,179.5 384.362,175.5 \n",
       "  \"/>\n",
       "<polygon clip-path=\"url(#clip02)\" style=\"fill:#000000; fill-opacity:1\" points=\"\n",
       "  411.808,174.5 406.808,179.5 411.808,184.5 416.808,179.5 411.808,174.5 \n",
       "  \"/>\n",
       "<polygon clip-path=\"url(#clip02)\" style=\"fill:#e26f46; fill-opacity:1\" points=\"\n",
       "  411.808,175.5 407.808,179.5 411.808,183.5 415.808,179.5 411.808,175.5 \n",
       "  \"/>\n",
       "<polygon clip-path=\"url(#clip02)\" style=\"fill:#000000; fill-opacity:1\" points=\"\n",
       "  439.254,291.494 434.254,296.494 439.254,301.494 444.254,296.494 439.254,291.494 \n",
       "  \"/>\n",
       "<polygon clip-path=\"url(#clip02)\" style=\"fill:#e26f46; fill-opacity:1\" points=\"\n",
       "  439.254,292.494 435.254,296.494 439.254,300.494 443.254,296.494 439.254,292.494 \n",
       "  \"/>\n",
       "<polygon clip-path=\"url(#clip02)\" style=\"fill:#000000; fill-opacity:1\" points=\"\n",
       "  466.699,57.5054 461.699,62.5054 466.699,67.5054 471.699,62.5054 466.699,57.5054 \n",
       "  \"/>\n",
       "<polygon clip-path=\"url(#clip02)\" style=\"fill:#e26f46; fill-opacity:1\" points=\"\n",
       "  466.699,58.5054 462.699,62.5054 466.699,66.5054 470.699,62.5054 466.699,58.5054 \n",
       "  \"/>\n",
       "<polygon clip-path=\"url(#clip02)\" style=\"fill:#000000; fill-opacity:1\" points=\"\n",
       "  494.145,174.5 489.145,179.5 494.145,184.5 499.145,179.5 494.145,174.5 \n",
       "  \"/>\n",
       "<polygon clip-path=\"url(#clip02)\" style=\"fill:#e26f46; fill-opacity:1\" points=\"\n",
       "  494.145,175.5 490.145,179.5 494.145,183.5 498.145,179.5 494.145,175.5 \n",
       "  \"/>\n",
       "<polygon clip-path=\"url(#clip02)\" style=\"fill:#000000; fill-opacity:1\" points=\"\n",
       "  521.591,174.5 516.591,179.5 521.591,184.5 526.591,179.5 521.591,174.5 \n",
       "  \"/>\n",
       "<polygon clip-path=\"url(#clip02)\" style=\"fill:#e26f46; fill-opacity:1\" points=\"\n",
       "  521.591,175.5 517.591,179.5 521.591,183.5 525.591,179.5 521.591,175.5 \n",
       "  \"/>\n",
       "<polygon clip-path=\"url(#clip02)\" style=\"fill:#000000; fill-opacity:1\" points=\"\n",
       "  549.036,174.5 544.036,179.5 549.036,184.5 554.036,179.5 549.036,174.5 \n",
       "  \"/>\n",
       "<polygon clip-path=\"url(#clip02)\" style=\"fill:#e26f46; fill-opacity:1\" points=\"\n",
       "  549.036,175.5 545.036,179.5 549.036,183.5 553.036,179.5 549.036,175.5 \n",
       "  \"/>\n",
       "<polygon clip-path=\"url(#clip02)\" style=\"fill:#000000; fill-opacity:1\" points=\"\n",
       "  576.482,174.5 571.482,179.5 576.482,184.5 581.482,179.5 576.482,174.5 \n",
       "  \"/>\n",
       "<polygon clip-path=\"url(#clip02)\" style=\"fill:#e26f46; fill-opacity:1\" points=\"\n",
       "  576.482,175.5 572.482,179.5 576.482,183.5 580.482,179.5 576.482,175.5 \n",
       "  \"/>\n",
       "<polygon clip-path=\"url(#clip00)\" points=\"\n",
       "426.517,74.114 574.126,74.114 574.126,28.754 426.517,28.754 \n",
       "  \" fill=\"#ffffff\" fill-opacity=\"1\"/>\n",
       "<polyline clip-path=\"url(#clip00)\" style=\"stroke:#000000; stroke-width:1; stroke-opacity:1; fill:none\" points=\"\n",
       "  426.517,74.114 574.126,74.114 574.126,28.754 426.517,28.754 426.517,74.114 \n",
       "  \"/>\n",
       "<circle clip-path=\"url(#clip00)\" style=\"fill:#000000; stroke:none; fill-opacity:1\" cx=\"453.517\" cy=\"43.874\" r=\"6\"/>\n",
       "<circle clip-path=\"url(#clip00)\" style=\"fill:#009af9; stroke:none; fill-opacity:1\" cx=\"453.517\" cy=\"43.874\" r=\"5\"/>\n",
       "<g clip-path=\"url(#clip00)\">\n",
       "<text style=\"fill:#000000; fill-opacity:1; font-family:Arial,Helvetica Neue,Helvetica,sans-serif; font-size:12; text-anchor:start;\" transform=\"rotate(0, 474.517, 48.374)\" x=\"474.517\" y=\"48.374\">obs</text>\n",
       "</g>\n",
       "<polygon clip-path=\"url(#clip00)\" style=\"fill:#000000; fill-opacity:1\" points=\"\n",
       "  453.517,51.994 446.517,58.994 453.517,65.994 460.517,58.994 453.517,51.994 \n",
       "  \"/>\n",
       "<polygon clip-path=\"url(#clip00)\" style=\"fill:#e26f46; fill-opacity:1\" points=\"\n",
       "  453.517,52.994 447.517,58.994 453.517,64.994 459.517,58.994 453.517,52.994 \n",
       "  \"/>\n",
       "<g clip-path=\"url(#clip00)\">\n",
       "<text style=\"fill:#000000; fill-opacity:1; font-family:Arial,Helvetica Neue,Helvetica,sans-serif; font-size:12; text-anchor:start;\" transform=\"rotate(0, 474.517, 63.494)\" x=\"474.517\" y=\"63.494\">hid (ground ture)</text>\n",
       "</g>\n",
       "</svg>\n"
      ]
     },
     "execution_count": 2,
     "metadata": {},
     "output_type": "execute_result"
    }
   ],
   "source": [
    "hmm_data = load(\"hmm-data.jld\")[\"data\"]     # load data\n",
    "\n",
    "plot(1:hmm_data[\"N\"], hmm_data[\"obs\"],      # visualize data\n",
    "     line=:scatter, lab=\"obs\", m=:circle)\n",
    "plot!(1:hmm_data[\"N\"], hmm_data[\"hid_ground\"],      # visualize data\n",
    "      line=:scatter, lab=\"hid (ground ture)\", m=:diamond)"
   ]
  },
  {
   "cell_type": "code",
   "execution_count": 3,
   "metadata": {},
   "outputs": [
    {
     "data": {
      "text/plain": [
       "hmm_model (generic function with 6 methods)"
      ]
     },
     "execution_count": 3,
     "metadata": {},
     "output_type": "execute_result"
    }
   ],
   "source": [
    "# Define a HMM model with data as\n",
    "#          K := number of hidden stats\n",
    "#          N := number of observations\n",
    "#   T_ground := transition matrix\n",
    "# sig_ground := noise level\n",
    "#        obs := observations\n",
    "@model hmm_model(K, N, T_ground, sig_ground, obs) = begin\n",
    "  hid = tzeros(Int, N)\n",
    "  hid[1] ~ Categorical(ones(Float64, K) / K)\n",
    "  obs[1] ~ Normal(hid[1], sqrt(sig_ground))\n",
    "  for t in 2:N\n",
    "    hid[t] ~ Categorical(T_ground[:, hid[t - 1]])\n",
    "    obs[t] ~ Normal(hid[t], sqrt(sig_ground))\n",
    "  end\n",
    "end"
   ]
  },
  {
   "cell_type": "code",
   "execution_count": null,
   "metadata": {},
   "outputs": [
    {
     "name": "stdout",
     "output_type": "stream",
     "text": [
      "[Turing]:  Assume - `hid` is a parameter\n",
      "  in @~(::Any, ::Any) at compiler.jl:76\n",
      "[Turing]:  Observe - `obs` is an observation\n",
      "  in @~(::Any, ::Any) at compiler.jl:57\n"
     ]
    }
   ],
   "source": [
    "N_samples = 100 # number of samples to generate\n",
    "\n",
    "hmm_chn = sample(hmm_model(data=hmm_data), # sample from \"hmm_model\" with data as \"hmm_data\" using\n",
    "                 PG(10, 100))              # \"PG\" with \"10\" particles for \"100\" iterations"
   ]
  },
  {
   "cell_type": "code",
   "execution_count": null,
   "metadata": {
    "collapsed": true
   },
   "outputs": [],
   "source": [
    "plot!(1:hmm_data[\"N\"], hmm_chn[:hid][N_samples],\n",
    "      line=:scatter, lab=\"hid (HMM)\", m=:star4)"
   ]
  },
  {
   "cell_type": "raw",
   "metadata": {},
   "source": [
    "##############################################\n",
    "# 2. Bayesian Hidden Markov Model (BayesHMM) #\n",
    "##############################################"
   ]
  },
  {
   "cell_type": "code",
   "execution_count": null,
   "metadata": {
    "collapsed": true
   },
   "outputs": [],
   "source": [
    "# Define a HMM model with data as\n",
    "#       K := number of hidden stats\n",
    "#       N := number of observations\n",
    "#       a := param for noise prior (Inv-Gamma)\n",
    "#       b := param for noise prior (Inv-Gamma)\n",
    "#   alpha := param for transition matrix prior (Dirichlet)\n",
    "#     obs := observations\n",
    "@model bayes_hmm_model(K, N, a, b, alpha, obs) = begin\n",
    "  # Inverse gamma prior on noise level\n",
    "  sig ~ InverseGamma(a, b)\n",
    "\n",
    "  # Dirichlet prior on transition matrix\n",
    "  T = Vector{Vector{Real}}(K)\n",
    "  for k = 1:K\n",
    "    T[k] ~ Dirichlet(alpha)\n",
    "  end\n",
    "\n",
    "  hid = tzeros(Int, N)\n",
    "  hid[1] ~ Categorical(ones(Float64, K) / K)\n",
    "  obs[1] ~ Normal(hid[1], sqrt(sig))\n",
    "  for t in 2:N\n",
    "    hid[t] ~ Categorical(T[hid[t - 1]])\n",
    "    obs[t] ~ Normal(hid[t], sqrt(sig))\n",
    "  end\n",
    "end"
   ]
  },
  {
   "cell_type": "code",
   "execution_count": null,
   "metadata": {
    "collapsed": true
   },
   "outputs": [],
   "source": [
    "N_samples = 100 # number of samples to generate\n",
    "\n",
    "bayes_hmm_chn = sample(bayes_hmm_model(data=hmm_data),  # sample from \"bayes_hmm_model\" with data as \"hmm_data\" using\n",
    "                       Gibbs(N_samples,                 # \"Gibbs\" sampler for \"N_samples\" iterations by combing\n",
    "                             PG(10, 1, :hid),           # \"PG\" with \"10\" particles for \"hid\", and\n",
    "                             HMC(1, 0.2, 3, :T, :sig))) # \"HMC\" with leapfrog params \"0.2\" and \"3\" for \"T\" and \"sig\""
   ]
  },
  {
   "cell_type": "code",
   "execution_count": null,
   "metadata": {
    "collapsed": true
   },
   "outputs": [],
   "source": [
    "plot!(1:hmm_data[\"N\"], bayes_hmm_chn[:hid][N_samples],\n",
    "      line=:scatter, lab=\"hid (BayesHMM)\", m=:star5)"
   ]
  },
  {
   "cell_type": "raw",
   "metadata": {},
   "source": [
    "########################################\n",
    "# 3. Latent Dirichelt Allocation (LDA) #\n",
    "########################################"
   ]
  },
  {
   "cell_type": "raw",
   "metadata": {},
   "source": [
    "########################################\n",
    "# 4. Bayesian Neural Network (BayesNN) #\n",
    "########################################"
   ]
  },
  {
   "cell_type": "raw",
   "metadata": {},
   "source": [
    "############################\n",
    "# 5. Differential Equation #\n",
    "############################"
   ]
  }
 ],
 "metadata": {
  "kernelspec": {
   "display_name": "Julia 0.5.2",
   "language": "julia",
   "name": "julia-0.5"
  },
  "language_info": {
   "file_extension": ".jl",
   "mimetype": "application/julia",
   "name": "julia",
   "version": "0.5.2"
  }
 },
 "nbformat": 4,
 "nbformat_minor": 2
}
