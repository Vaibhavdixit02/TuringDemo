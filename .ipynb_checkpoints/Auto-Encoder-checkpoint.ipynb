{
 "cells": [
  {
   "cell_type": "code",
   "execution_count": 15,
   "metadata": {
    "collapsed": false
   },
   "outputs": [],
   "source": [
    "using Turing\n",
    "using Distributions"
   ]
  },
  {
   "cell_type": "code",
   "execution_count": 24,
   "metadata": {
    "collapsed": false
   },
   "outputs": [
    {
     "data": {
      "text/plain": [
       "logit (generic function with 1 method)"
      ]
     },
     "execution_count": 24,
     "metadata": {},
     "output_type": "execute_result"
    }
   ],
   "source": [
    "logit(x) = log(x ./ (1.0 - x))"
   ]
  },
  {
   "cell_type": "code",
   "execution_count": 33,
   "metadata": {
    "collapsed": false
   },
   "outputs": [
    {
     "data": {
      "text/plain": [
       "AE (generic function with 1 method)"
      ]
     },
     "execution_count": 33,
     "metadata": {},
     "output_type": "execute_result"
    }
   ],
   "source": [
    "Nz = 64                # dimension of embedded layer\n",
    "Nx = 256               # dimension of observation\n",
    "alpha = 0.16           # regularizatin term\n",
    "σ² = sqrt(1.0 / alpha) # variance of the Gaussian prior\n",
    "\n",
    "@model AE begin\n",
    "    @assume z ~ MvNormal(zeros(Nz), diagm(ones(Nz), 0))\n",
    "    w = tzeros(Nz * Nx) # TODO: change it to TArray()\n",
    "    for i in 1:length(w)\n",
    "        @assume w[i] ~ Normal(0, σ²)\n",
    "    end\n",
    "    for i in 1:length(x)\n",
    "        y = w[(1 + (i - 1) * Nz):(i * Nz)]' * z[i]\n",
    "        @observe x[i] ~ Bernoulli(logit(y[1]))\n",
    "    end\n",
    "    @predict z\n",
    "end"
   ]
  },
  {
   "cell_type": "code",
   "execution_count": 34,
   "metadata": {
    "collapsed": false
   },
   "outputs": [
    {
     "ename": "LoadError",
     "evalue": "LoadError: ArgumentError: Bernoulli: the condition zero(p) <= p <= one(p) is not satisfied.\nwhile loading In[34], in expression starting on line 2",
     "output_type": "error",
     "traceback": [
      "LoadError: ArgumentError: Bernoulli: the condition zero(p) <= p <= one(p) is not satisfied.\nwhile loading In[34], in expression starting on line 2",
      "",
      " in schedule_and_wait(::Task, ::Void) at ./event.jl:110",
      " in consume(::Task) at ./task.jl:269",
      " in run(::Turing.HMCSampler{Turing.HMC}) at /Users/kai/.julia/v0.5/Turing/src/samplers/hmc.jl:67",
      " in sample(::Function, ::Turing.HMC) at /Users/kai/.julia/v0.5/Turing/src/samplers/hmc.jl:237"
     ]
    }
   ],
   "source": [
    "x = diagm(ones(Int(sqrt(Nx))), 0)[:]\n",
    "sample(AE, HMC(100, 0.1, 3))"
   ]
  },
  {
   "cell_type": "code",
   "execution_count": null,
   "metadata": {
    "collapsed": true
   },
   "outputs": [],
   "source": []
  }
 ],
 "metadata": {
  "kernelspec": {
   "display_name": "Julia 0.5.0",
   "language": "julia",
   "name": "julia-0.5"
  },
  "language_info": {
   "file_extension": ".jl",
   "mimetype": "application/julia",
   "name": "julia",
   "version": "0.5.0"
  }
 },
 "nbformat": 4,
 "nbformat_minor": 2
}
