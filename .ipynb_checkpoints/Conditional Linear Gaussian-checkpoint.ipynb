{
 "cells": [
  {
   "cell_type": "code",
   "execution_count": null,
   "metadata": {
    "collapsed": true
   },
   "outputs": [],
   "source": [
    "using Distributions\n",
    "using Turing"
   ]
  },
  {
   "cell_type": "code",
   "execution_count": 2,
   "metadata": {
    "collapsed": true
   },
   "outputs": [
    {
     "name": "stderr",
     "output_type": "stream",
     "text": [
      "WARNING: symbol is deprecated, use Symbol instead.\n",
      " in depwarn(::String, ::Symbol) at ./deprecated.jl:64\n",
      " in symbol(::String, ::Vararg{String,N}) at ./deprecated.jl:30\n",
      " in @assume(::Any) at /Users/kai/.julia/v0.5/Turing/src/core/compiler.jl:8\n",
      " in include_string(::String, ::String) at ./loading.jl:441\n",
      " in execute_request(::ZMQ.Socket, ::IJulia.Msg) at /Users/kai/.julia/v0.5/IJulia/src/execute_request.jl:169\n",
      " in eventloop(::ZMQ.Socket) at /Users/kai/.julia/v0.5/IJulia/src/eventloop.jl:8\n",
      " in (::IJulia.##9#15)() at ./task.jl:360\n",
      "while loading In[2], in expression starting on line 3\n"
     ]
    },
    {
     "data": {
      "text/plain": [
       "CLG (generic function with 1 method)"
      ]
     },
     "execution_count": 2,
     "metadata": {},
     "output_type": "execute_result"
    }
   ],
   "source": [
    "D = [10, 10, 10, 10]\n",
    "\n",
    "@model CLG begin\n",
    "    @assume mu0 ~ Normal(0, 1)\n",
    "    @assume mu1 ~ Normal(10, 1)\n",
    "    @assume z ~ Bernoulli(0.5)\n",
    "    for x in D\n",
    "        if z == 0\n",
    "            @observe x ~ Normal(mu0, 4)\n",
    "        else\n",
    "            @observe x ~ Normal(mu1, 4)\n",
    "        end\n",
    "    end\n",
    "    @predict z\n",
    "end"
   ]
  },
  {
   "cell_type": "code",
   "execution_count": null,
   "metadata": {
    "collapsed": false
   },
   "outputs": [
    {
     "name": "stderr",
     "output_type": "stream",
     "text": [
      "WARNING: symbol is deprecated, use Symbol instead.\n",
      " in depwarn(::String, ::Symbol) at ./deprecated.jl:64\n",
      " in symbol(::String, ::Vararg{String,N}) at ./deprecated.jl:30\n",
      " in CLG() at ./In[2]:14\n",
      " in (::Turing.Traces.##1#2{#CLG})() at /Users/kai/.julia/v0.5/Turing/src/trace/trace.jl:30\n",
      "while loading In[3], in expression starting on line 1\n",
      "ERROR (unhandled task failure): UndefVarError: schedule_and_wait not defined\n",
      " in produce(::Type{T}) at /Users/kai/.julia/v0.5/Turing/src/trace/taskcopy.jl:72\n",
      " in (::Turing.Traces.##1#2{#CLG})() at /Users/kai/.julia/v0.5/Turing/src/trace/trace.jl:30\n"
     ]
    }
   ],
   "source": [
    "chain = sample(CLG, HMC(1000, 0.2, 5))"
   ]
  },
  {
   "cell_type": "code",
   "execution_count": null,
   "metadata": {
    "collapsed": true
   },
   "outputs": [],
   "source": [
    "mean(chain[:z])"
   ]
  }
 ],
 "metadata": {
  "kernelspec": {
   "display_name": "Julia 0.5.0",
   "language": "julia",
   "name": "julia-0.5"
  },
  "language_info": {
   "file_extension": ".jl",
   "mimetype": "application/julia",
   "name": "julia",
   "version": "0.5.0"
  }
 },
 "nbformat": 4,
 "nbformat_minor": 0
}
