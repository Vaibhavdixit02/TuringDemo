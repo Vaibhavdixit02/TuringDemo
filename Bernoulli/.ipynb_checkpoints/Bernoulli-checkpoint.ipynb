{
 "cells": [
  {
   "cell_type": "markdown",
   "metadata": {},
   "source": [
    "# Turing"
   ]
  },
  {
   "cell_type": "code",
   "execution_count": 1,
   "metadata": {
    "collapsed": false
   },
   "outputs": [
    {
     "name": "stderr",
     "output_type": "stream",
     "text": [
      "WARNING: using Distributions.sampler in module Turing conflicts with an existing identifier.\n"
     ]
    }
   ],
   "source": [
    "using Distributions, Turing"
   ]
  },
  {
   "cell_type": "code",
   "execution_count": 2,
   "metadata": {
    "collapsed": false
   },
   "outputs": [
    {
     "data": {
      "text/plain": [
       "bernoulli (generic function with 4 methods)"
      ]
     },
     "execution_count": 2,
     "metadata": {},
     "output_type": "execute_result"
    }
   ],
   "source": [
    "ys = [0, 1, 0, 1, 0, 0, 0, 0, 0, 1]\n",
    "\n",
    "@model bernoulli begin\n",
    "    θ ~ Beta(1, 1)\n",
    "    for y in ys\n",
    "        y ~ Bernoulli(θ)\n",
    "    end\n",
    "    @predict θ\n",
    "end"
   ]
  },
  {
   "cell_type": "code",
   "execution_count": 3,
   "metadata": {
    "collapsed": false
   },
   "outputs": [
    {
     "name": "stdout",
     "output_type": "stream",
     "text": [
      "[HMC]: Finshed with accept rate = 0.9820833333333333 within 6.133347034454346 seconds\n"
     ]
    },
    {
     "data": {
      "text/plain": [
       "Chain, model evidence (log)  0.0 and means Dict(:θ=>0.332075)"
      ]
     },
     "execution_count": 3,
     "metadata": {},
     "output_type": "execute_result"
    }
   ],
   "source": [
    "chain = sample(bernoulli, Turing.HMC(2400, 0.3, 2))"
   ]
  },
  {
   "cell_type": "code",
   "execution_count": 5,
   "metadata": {
    "collapsed": true
   },
   "outputs": [
    {
     "name": "stderr",
     "output_type": "stream",
     "text": [
      "WARNING: Method definition (::Type{Graphs.KeyVertex})(Int64, #K<:Any) in module Graphs at /Users/kai/.julia/v0.5/Graphs/src/common.jl:12 overwritten at /Users/kai/.julia/v0.5/Graphs/src/common.jl:16.\n",
      "WARNING: Method definition (::Type{Graphs.Edge})(Int64, #V<:Any, #V<:Any) in module Graphs at /Users/kai/.julia/v0.5/Graphs/src/common.jl:54 overwritten at /Users/kai/.julia/v0.5/Graphs/src/common.jl:60.\n",
      "WARNING: Method definition (::Type{Graphs.ExEdge})(Int64, #V<:Any, #V<:Any, Base.Dict{String, Any}) in module Graphs at /Users/kai/.julia/v0.5/Graphs/src/common.jl:72 overwritten at /Users/kai/.julia/v0.5/Graphs/src/common.jl:83.\n",
      "WARNING: Method definition (::Type{Graphs.TargetIterator})(#G<:Graphs.AbstractGraph, #EList<:Any) in module Graphs at /Users/kai/.julia/v0.5/Graphs/src/common.jl:123 overwritten at /Users/kai/.julia/v0.5/Graphs/src/common.jl:127.\n",
      "WARNING: Method definition (::Type{Graphs.SourceIterator})(#G<:Graphs.AbstractGraph, #EList<:Any) in module Graphs at /Users/kai/.julia/v0.5/Graphs/src/common.jl:141 overwritten at /Users/kai/.julia/v0.5/Graphs/src/common.jl:145.\n",
      "WARNING: Method definition edge_property_requirement(Graphs.AbstractEdgePropertyInspector{#T<:Any}, Graphs.AbstractGraph{#V<:Any, E<:Any}) in module Graphs at /Users/kai/.julia/v0.5/Graphs/src/common.jl:164 overwritten at /Users/kai/.julia/v0.5/Graphs/src/common.jl:179.\n",
      "WARNING: Method definition vertex_index(#V<:Union{Graphs.ExVertex, Graphs.KeyVertex}, Graphs.GenericGraph{#V<:Union{Graphs.ExVertex, Graphs.KeyVertex}, E<:Any, VList<:Any, EList<:Any, IncList<:Any}) in module Graphs at /Users/kai/.julia/v0.5/Graphs/src/graph.jl:65 overwritten at /Users/kai/.julia/v0.5/Graphs/src/graph.jl:67.\n",
      "WARNING: Method definition (::Type{Graphs.GDistanceVisitor})(#G<:Graphs.AbstractGraph, #DMap<:Any) in module Graphs at /Users/kai/.julia/v0.5/Graphs/src/breadth_first_visit.jl:107 overwritten at /Users/kai/.julia/v0.5/Graphs/src/breadth_first_visit.jl:111.\n",
      "WARNING: Method definition logpdf(Distributions.Distribution, Any, Bool) in module Turing at /Users/kai/.julia/v0.5/Turing/src/samplers/support/transform.jl:189 overwritten in module Mamba at /Users/kai/.julia/v0.5/Mamba/src/distributions/distributionstruct.jl:136.\n",
      "WARNING: Method definition logpdf(Union{Distributions.Truncated{T<:Distributions.Distribution{Distributions.Univariate, Distributions.Continuous}, S<:Distributions.ValueSupport}, T<:Distributions.Distribution{Distributions.Univariate, Distributions.Continuous}}, Real, Bool) in module Turing at /Users/kai/.julia/v0.5/Turing/src/samplers/support/transform.jl:39 overwritten in module Mamba at /Users/kai/.julia/v0.5/Mamba/src/distributions/transformdistribution.jl:35.\n",
      "WARNING: Method definition logpdf(Union{Distributions.Logistic, Distributions.Cauchy, Distributions.NormalCanon, Distributions.TDist, Distributions.NoncentralT, Distributions.Laplace, Distributions.Gumbel, Distributions.Normal}, Real, Bool) in module Turing at /Users/kai/.julia/v0.5/Turing/src/samplers/support/transform.jl:65 overwritten in module Mamba at /Users/kai/.julia/v0.5/Mamba/src/distributions/transformdistribution.jl:61.\n",
      "WARNING: Method definition logpdf(Union{Distributions.Erlang, Distributions.Chi, Distributions.FDist, Distributions.NoncentralChisq, Distributions.Rayleigh, Distributions.Chisq, Distributions.Gamma, Distributions.Weibull, Distributions.InverseGaussian, Distributions.BetaPrime, Distributions.InverseGamma, Distributions.Exponential, Distributions.Frechet, Distributions.Kolmogorov, Distributions.NoncentralF, Distributions.LogNormal}, Real, Bool) in module Turing at /Users/kai/.julia/v0.5/Turing/src/samplers/support/transform.jl:80 overwritten in module Mamba at /Users/kai/.julia/v0.5/Mamba/src/distributions/transformdistribution.jl:76.\n",
      "WARNING: Method definition logpdf(Union{Distributions.Beta, Distributions.KSOneSided, Distributions.NoncentralBeta}, Real, Bool) in module Turing at /Users/kai/.julia/v0.5/Turing/src/samplers/support/transform.jl:95 overwritten in module Mamba at /Users/kai/.julia/v0.5/Mamba/src/distributions/transformdistribution.jl:91.\n"
     ]
    }
   ],
   "source": [
    "using Mamba"
   ]
  },
  {
   "cell_type": "code",
   "execution_count": 10,
   "metadata": {
    "collapsed": false
   },
   "outputs": [
    {
     "data": {
      "text/plain": [
       "          Mean        SD       Naive SE       MCSE        ESS  \n",
       "Param1 0.33207503 0.13257444 0.0027061643 0.0056754616 545.6538\n",
       "\n"
      ]
     },
     "execution_count": 10,
     "metadata": {},
     "output_type": "execute_result"
    }
   ],
   "source": [
    "summarystats(Chains(chain[:θ]))"
   ]
  },
  {
   "cell_type": "markdown",
   "metadata": {},
   "source": [
    "# Stan"
   ]
  },
  {
   "cell_type": "code",
   "execution_count": 11,
   "metadata": {
    "collapsed": false
   },
   "outputs": [
    {
     "name": "stderr",
     "output_type": "stream",
     "text": [
      "WARNING: using Stan.CMDSTAN_HOME in module Main conflicts with an existing identifier.\n"
     ]
    }
   ],
   "source": [
    "using Mamba, Stan"
   ]
  },
  {
   "cell_type": "code",
   "execution_count": 12,
   "metadata": {
    "collapsed": false
   },
   "outputs": [],
   "source": [
    "bernoullimodel = \"\n",
    "data { \n",
    "  int<lower=1> N; \n",
    "  int<lower=0,upper=1> y[N];\n",
    "} \n",
    "parameters {\n",
    "  real<lower=0,upper=1> theta;\n",
    "} \n",
    "model {\n",
    "  theta ~ beta(1,1);\n",
    "  y ~ bernoulli(theta);\n",
    "}\n",
    "\"\n",
    "\n",
    "bernoullidata = [Dict(\"N\" => 10, \"y\" => [0, 1, 0, 1, 0, 0, 0, 0, 0, 1])]\n",
    "\n",
    "stanmodel = Stanmodel(update=1200, thin=2, name=\"bernoulli\", model=bernoullimodel, nchains=1);"
   ]
  },
  {
   "cell_type": "code",
   "execution_count": 16,
   "metadata": {
    "collapsed": false
   },
   "outputs": [
    {
     "name": "stdout",
     "output_type": "stream",
     "text": [
      "\n",
      "make: `/Users/kai/Turing/TuringDemo.jl/Bernoulli/tmp/bernoulli' is up to date.\n",
      "\n",
      "Inference for Stan model: bernoulli_model\n",
      "1 chains: each with iter=(1200); warmup=(0); thin=(1); 1200 iterations saved.\n",
      "\n",
      "Warmup took (0.011) seconds, 0.011 seconds total\n",
      "Sampling took (0.021) seconds, 0.021 seconds total\n",
      "\n",
      "                Mean     MCSE   StdDev    5%   50%   95%  N_Eff  N_Eff/s    R_hat\n",
      "lp__            -8.2  3.0e-02  6.2e-01  -9.4  -7.9  -7.6    428    20449  1.0e+00\n",
      "accept_stat__   0.93  3.0e-03  1.0e-01  0.71  0.97   1.0   1179    56354  1.0e+00\n",
      "stepsize__      0.98  7.8e-15  5.6e-15  0.98  0.98  0.98   0.50       24  1.0e+00\n",
      "treedepth__      1.7  1.7e-02  5.3e-01   1.0   2.0   2.0   1034    49431  1.0e+00\n",
      "n_leapfrog__     2.5  3.8e-02  1.3e+00   1.0   3.0   3.0   1145    54743  1.0e+00\n",
      "n_divergent__   0.00  0.0e+00  0.0e+00  0.00  0.00  0.00   1200    57375      nan\n",
      "theta           0.33  6.6e-03  1.3e-01  0.13  0.32  0.54    389    18582  1.0e+00\n",
      "\n",
      "Samples were drawn using hmc with nuts.\n",
      "For each parameter, N_Eff is a crude measure of effective sample size,\n",
      "and R_hat is the potential scale reduction factor on split chains (at \n",
      "convergence, R_hat=1).\n",
      "\n"
     ]
    },
    {
     "data": {
      "text/plain": [
       "Object of type \"Mamba.Chains\"\n",
       "\n",
       "Iterations = 1:2399\n",
       "Thinning interval = 2\n",
       "Chains = 1\n",
       "Samples per chain = 1200\n",
       "\n",
       "[-9.06319 1.0 … 0.0 0.140408; -7.88965 0.833353 … 0.0 0.242368; … ; -7.64733 1.0 … 0.0 0.351918; -7.78097 0.958485 … 0.0 0.263641]"
      ]
     },
     "execution_count": 16,
     "metadata": {},
     "output_type": "execute_result"
    }
   ],
   "source": [
    "ProjDir = dirname(@__FILE__)\n",
    "\n",
    "sim = stan(stanmodel, bernoullidata, ProjDir, CmdStanDir=CMDSTAN_HOME)"
   ]
  },
  {
   "cell_type": "code",
   "execution_count": null,
   "metadata": {
    "collapsed": true
   },
   "outputs": [],
   "source": []
  }
 ],
 "metadata": {
  "kernelspec": {
   "display_name": "Julia 0.5.0",
   "language": "julia",
   "name": "julia-0.5"
  },
  "language_info": {
   "file_extension": ".jl",
   "mimetype": "application/julia",
   "name": "julia",
   "version": "0.5.0"
  }
 },
 "nbformat": 4,
 "nbformat_minor": 2
}
