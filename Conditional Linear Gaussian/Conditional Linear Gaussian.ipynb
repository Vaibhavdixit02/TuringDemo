{
 "cells": [
  {
   "cell_type": "markdown",
   "metadata": {},
   "source": [
    "Let's start by loading essential packages"
   ]
  },
  {
   "cell_type": "code",
   "execution_count": 1,
   "metadata": {
    "collapsed": false
   },
   "outputs": [
    {
     "name": "stderr",
     "output_type": "stream",
     "text": [
      "WARNING: `@unix_only` is deprecated, use `@static if is_unix()` instead\n",
      " in depwarn(::String, ::Symbol) at ./deprecated.jl:64\n",
      " in depwarn(::String, ::Symbol) at /Applications/Julia-0.5.app/Contents/Resources/julia/lib/julia/sys.dylib:?\n",
      " in @unix_only(::Any) at ./deprecated.jl:492\n",
      " in include_from_node1(::String) at ./loading.jl:488\n",
      " in include_from_node1(::String) at /Applications/Julia-0.5.app/Contents/Resources/julia/lib/julia/sys.dylib:?\n",
      " in include_from_node1(::String) at ./loading.jl:488\n",
      " in include_from_node1(::String) at /Applications/Julia-0.5.app/Contents/Resources/julia/lib/julia/sys.dylib:?\n",
      " in include_from_node1(::String) at ./loading.jl:488\n",
      " in include_from_node1(::String) at /Applications/Julia-0.5.app/Contents/Resources/julia/lib/julia/sys.dylib:?\n",
      " in eval(::Module, ::Any) at ./boot.jl:234\n",
      " in eval(::Module, ::Any) at /Applications/Julia-0.5.app/Contents/Resources/julia/lib/julia/sys.dylib:?\n",
      " in require(::Symbol) at ./loading.jl:415\n",
      " in require(::Symbol) at /Applications/Julia-0.5.app/Contents/Resources/julia/lib/julia/sys.dylib:?\n",
      " in include_string(::String, ::String) at ./loading.jl:441\n",
      " in execute_request(::ZMQ.Socket, ::IJulia.Msg) at /Users/kai/.julia/v0.5/IJulia/src/execute_request.jl:169\n",
      " in eventloop(::ZMQ.Socket) at /Users/kai/.julia/v0.5/IJulia/src/eventloop.jl:8\n",
      " in (::IJulia.##9#15)() at ./task.jl:360\n",
      "while loading /Users/kai/.julia/v0.5/Turing/src/trace/taskcopy.jl, in expression starting on line 1\n",
      "\n",
      "WARNING: deprecated syntax \"call(::Type{TArray{T,1}}, ...)\".\n",
      "Use \"(::Type{TArray{T,1}})(...)\" instead.\n",
      "\n",
      "WARNING: deprecated syntax \"call(::Type{TArray{T}}, ...)\".\n",
      "Use \"(::Type{TArray{T}})(...)\" instead.\n",
      "\n",
      "WARNING: deprecated syntax \"call(::Type{TArray{T,N}}, ...)\".\n",
      "Use \"(::Type{TArray{T,N}})(...)\" instead.\n",
      "\n",
      "WARNING: deprecated syntax \"call(::Type{TArray{T,N}}, ...)\".\n",
      "Use \"(::Type{TArray{T,N}})(...)\" instead.\n",
      "\n",
      "WARNING: deprecated syntax \"call(::Type{Trace{T}}, ...)\".\n",
      "Use \"(::Type{Trace{T}})(...)\" instead.\n",
      "WARNING: Method definition betapdf(Real, Real, Real) in module StatsFuns at /Users/kai/.julia/v0.5/StatsFuns/src/distrs/beta.jl:16 overwritten in module Turing at /Users/kai/.julia/v0.5/Turing/src/Turing.jl:19.\n",
      "WARNING: Method definition betalogpdf(Real, Real, Real) in module RFunctions at /Users/kai/.julia/v0.5/StatsFuns/src/rmath.jl:59 overwritten in module Turing at /Users/kai/.julia/v0.5/Turing/src/Turing.jl:20.\n",
      "WARNING: Method definition gammapdf(Real, Real, Real) in module RFunctions at /Users/kai/.julia/v0.5/StatsFuns/src/rmath.jl:56 overwritten in module Turing at /Users/kai/.julia/v0.5/Turing/src/Turing.jl:21.\n",
      "WARNING: Method definition gammalogpdf(Real, Real, Real) in module RFunctions at /Users/kai/.julia/v0.5/StatsFuns/src/rmath.jl:59 overwritten in module Turing at /Users/kai/.julia/v0.5/Turing/src/Turing.jl:22.\n",
      "WARNING: using Distributions.sampler in module Turing conflicts with an existing identifier.\n",
      "\n",
      "WARNING: deprecated syntax \"call(::Type{ParticleContainer{T}}, ...)\".\n",
      "Use \"(::Type{ParticleContainer{T}})(...)\" instead.\n",
      "\n",
      "WARNING: deprecated syntax \"[a=>b for (a,b) in c]\".\n",
      "Use \"Dict(a=>b for (a,b) in c)\" instead.\n"
     ]
    }
   ],
   "source": [
    "using Distributions\n",
    "using Turing"
   ]
  },
  {
   "cell_type": "markdown",
   "metadata": {},
   "source": [
    "Then we can define our CLG model in Turing, and put some toy data here as `D`."
   ]
  },
  {
   "cell_type": "code",
   "execution_count": 2,
   "metadata": {
    "collapsed": false
   },
   "outputs": [
    {
     "name": "stderr",
     "output_type": "stream",
     "text": [
      "WARNING: symbol is deprecated, use Symbol instead.\n",
      " in depwarn(::String, ::Symbol) at ./deprecated.jl:64\n",
      " in symbol(::String, ::Vararg{String,N}) at ./deprecated.jl:30\n",
      " in @assume(::Any) at /Users/kai/.julia/v0.5/Turing/src/core/compiler.jl:8\n",
      " in include_string(::String, ::String) at ./loading.jl:441\n",
      " in execute_request(::ZMQ.Socket, ::IJulia.Msg) at /Users/kai/.julia/v0.5/IJulia/src/execute_request.jl:169\n",
      " in eventloop(::ZMQ.Socket) at /Users/kai/.julia/v0.5/IJulia/src/eventloop.jl:8\n",
      " in (::IJulia.##9#15)() at ./task.jl:360\n",
      "while loading In[2], in expression starting on line 3\n"
     ]
    },
    {
     "data": {
      "text/plain": [
       "CLG (generic function with 1 method)"
      ]
     },
     "execution_count": 2,
     "metadata": {},
     "output_type": "execute_result"
    }
   ],
   "source": [
    "D = [10, 10, 10, 10]\n",
    "\n",
    "@model CLG begin\n",
    "    @assume mu0 ~ Normal(0, 1)\n",
    "    @assume mu1 ~ Normal(10, 1)\n",
    "    @assume z ~ Bernoulli(0.5)\n",
    "    for x in D\n",
    "        if z == 0\n",
    "            @observe x ~ Normal(mu0, 4)\n",
    "        else\n",
    "            @observe x ~ Normal(mu1, 4)\n",
    "        end\n",
    "    end\n",
    "    @predict z mu0 mu1\n",
    "end"
   ]
  },
  {
   "cell_type": "markdown",
   "metadata": {},
   "source": [
    "After defining the model we can run the HMC sampler."
   ]
  },
  {
   "cell_type": "code",
   "execution_count": 3,
   "metadata": {
    "collapsed": false
   },
   "outputs": [
    {
     "name": "stderr",
     "output_type": "stream",
     "text": [
      "WARNING: symbol is deprecated, use Symbol instead.\n",
      " in depwarn(::String, ::Symbol) at ./deprecated.jl:64\n",
      " in symbol(::String, ::Vararg{String,N}) at ./deprecated.jl:30\n",
      " in CLG() at ./In[2]:14\n",
      "while loading In[3], in expression starting on line 1\n",
      "WARNING: symbol is deprecated, use Symbol instead.\n",
      " in depwarn(::String, ::Symbol) at ./deprecated.jl:64\n",
      " in symbol(::String, ::Vararg{String,N}) at ./deprecated.jl:30\n",
      " in CLG() at ./In[2]:14\n",
      "while loading In[3], in expression starting on line 1\n",
      "WARNING: symbol is deprecated, use Symbol instead.\n",
      " in depwarn(::String, ::Symbol) at ./deprecated.jl:64\n",
      " in symbol(::String, ::Vararg{String,N}) at ./deprecated.jl:30\n",
      " in CLG() at ./In[2]:14\n",
      "while loading In[3], in expression starting on line 1\n"
     ]
    },
    {
     "name": "stdout",
     "output_type": "stream",
     "text": [
      "[HMC]: Finshed with accept rate = 0.001 (re-runs for 0 times)\n"
     ]
    },
    {
     "data": {
      "text/plain": [
       "Chain, model evidence (log)  0.0 and means Dict(:mu1=>10.483,:mu0=>-1.21355,:z=>1.0)"
      ]
     },
     "execution_count": 3,
     "metadata": {},
     "output_type": "execute_result"
    }
   ],
   "source": [
    "chain1 = sample(CLG, HMC(1000, 0.05, 5))"
   ]
  },
  {
   "cell_type": "markdown",
   "metadata": {},
   "source": [
    "Let's check the results"
   ]
  },
  {
   "cell_type": "code",
   "execution_count": 4,
   "metadata": {
    "collapsed": false
   },
   "outputs": [
    {
     "name": "stdout",
     "output_type": "stream",
     "text": [
      "z: 1.0, mu0: -1.2135477259825325, mu1: 10.482993067899816"
     ]
    }
   ],
   "source": [
    "print(\"z: \", mean(chain1[:z]), \", mu0: \", mean(chain1[:mu0]), \", mu1: \", mean(chain1[:mu1]))"
   ]
  },
  {
   "cell_type": "markdown",
   "metadata": {},
   "source": [
    "Let's try the SMC sampler as well"
   ]
  },
  {
   "cell_type": "code",
   "execution_count": 5,
   "metadata": {
    "collapsed": false
   },
   "outputs": [
    {
     "data": {
      "text/plain": [
       "Chain, model evidence (log)  4.198194006495793e-5 and means Dict(:mu1=>9.97269,:mu0=>-0.0375139,:z=>0.999935)"
      ]
     },
     "execution_count": 5,
     "metadata": {},
     "output_type": "execute_result"
    }
   ],
   "source": [
    "chain2 = sample(CLG, SMC(1000))"
   ]
  },
  {
   "cell_type": "markdown",
   "metadata": {},
   "source": [
    "Let's check the results"
   ]
  },
  {
   "cell_type": "code",
   "execution_count": 6,
   "metadata": {
    "collapsed": false
   },
   "outputs": [
    {
     "name": "stdout",
     "output_type": "stream",
     "text": [
      "z: 0.995, mu0: -0.02507191529627715, mu1: 9.968439276612921"
     ]
    }
   ],
   "source": [
    "print(\"z: \", mean(chain2[:z]), \", mu0: \", mean(chain2[:mu0]), \", mu1: \", mean(chain2[:mu1]))"
   ]
  }
 ],
 "metadata": {
  "kernelspec": {
   "display_name": "Julia 0.5.0",
   "language": "julia",
   "name": "julia-0.5"
  },
  "language_info": {
   "file_extension": ".jl",
   "mimetype": "application/julia",
   "name": "julia",
   "version": "0.5.0"
  }
 },
 "nbformat": 4,
 "nbformat_minor": 0
}
